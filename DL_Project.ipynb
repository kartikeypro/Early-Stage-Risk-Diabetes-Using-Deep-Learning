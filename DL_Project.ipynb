{
  "nbformat": 4,
  "nbformat_minor": 0,
  "metadata": {
    "kernelspec": {
      "display_name": "Python 3",
      "language": "python",
      "name": "python3"
    },
    "language_info": {
      "codemirror_mode": {
        "name": "ipython",
        "version": 3
      },
      "file_extension": ".py",
      "mimetype": "text/x-python",
      "name": "python",
      "nbconvert_exporter": "python",
      "pygments_lexer": "ipython3",
      "version": "3.8.3"
    },
    "colab": {
      "name": "DL Project.ipynb",
      "provenance": [],
      "collapsed_sections": []
    }
  },
  "cells": [
    {
      "cell_type": "code",
      "metadata": {
        "id": "UkhxEQZ3IHWn"
      },
      "source": [
        "import pandas as pd\n",
        "import numpy as np\n",
        "import seaborn as sns\n",
        "import matplotlib.pyplot as plt\n",
        "%matplotlib inline"
      ],
      "execution_count": 1,
      "outputs": []
    },
    {
      "cell_type": "code",
      "metadata": {
        "id": "cl5s7ScxIHWo"
      },
      "source": [
        "data=pd.read_csv(\"data.csv\")"
      ],
      "execution_count": 2,
      "outputs": []
    },
    {
      "cell_type": "code",
      "metadata": {
        "id": "TPE4ItGIIHWo"
      },
      "source": [
        "data.shape #Data contains 520 rows and 17 columns "
      ],
      "execution_count": null,
      "outputs": []
    },
    {
      "cell_type": "code",
      "metadata": {
        "id": "Ua7-y59PIHWp"
      },
      "source": [
        "data.head()"
      ],
      "execution_count": null,
      "outputs": []
    },
    {
      "cell_type": "code",
      "metadata": {
        "id": "ZJqyH4BeIHWp"
      },
      "source": [
        "data.isna().sum() #There are no null values "
      ],
      "execution_count": null,
      "outputs": []
    },
    {
      "cell_type": "code",
      "metadata": {
        "id": "x3QrW4BzIHWq"
      },
      "source": [
        "Data=data"
      ],
      "execution_count": 6,
      "outputs": []
    },
    {
      "cell_type": "code",
      "metadata": {
        "id": "Z3JPM7QlIHWq"
      },
      "source": [
        "Data.head()"
      ],
      "execution_count": null,
      "outputs": []
    },
    {
      "cell_type": "code",
      "metadata": {
        "id": "LcwNPJ0nNn70"
      },
      "source": [
        "Data['Gender'] = Data['Gender'].map({'Male':1,'Female':0})\n",
        "Data['class'] = Data['class'].map({'Positive':1,'Negative':0})\n",
        "Data['Polyuria'] = Data['Polyuria'].map({'Yes':1,'No':0})\n",
        "Data['Polydipsia'] = Data['Polydipsia'].map({'Yes':1,'No':0})\n",
        "Data['sudden weight loss'] = Data['sudden weight loss'].map({'Yes':1,'No':0})\n",
        "Data['weakness'] = Data['weakness'].map({'Yes':1,'No':0})\n",
        "Data['Polyphagia'] = Data['Polyphagia'].map({'Yes':1,'No':0})\n",
        "Data['Genital thrush'] = Data['Genital thrush'].map({'Yes':1,'No':0})\n",
        "Data['visual blurring'] = Data['visual blurring'].map({'Yes':1,'No':0})\n",
        "Data['Itching'] = Data['Itching'].map({'Yes':1,'No':0})\n",
        "Data['Irritability'] = Data['Irritability'].map({'Yes':1,'No':0})\n",
        "Data['delayed healing'] = Data['delayed healing'].map({'Yes':1,'No':0})\n",
        "Data['partial paresis'] = Data['partial paresis'].map({'Yes':1,'No':0})\n",
        "Data['muscle stiffness'] = Data['muscle stiffness'].map({'Yes':1,'No':0})\n",
        "Data['Alopecia'] = Data['Alopecia'].map({'Yes':1,'No':0})\n",
        "Data['Obesity'] = Data['Obesity'].map({'Yes':1,'No':0})"
      ],
      "execution_count": 8,
      "outputs": []
    },
    {
      "cell_type": "code",
      "metadata": {
        "id": "z8hfvvC7L1bw"
      },
      "source": [
        "Data.head() #all values have been coverted to numerical values "
      ],
      "execution_count": null,
      "outputs": []
    },
    {
      "cell_type": "markdown",
      "metadata": {
        "id": "BspZqEv7PNxa"
      },
      "source": [
        "# Explolatory Data Analysis"
      ]
    },
    {
      "cell_type": "markdown",
      "metadata": {
        "id": "zDknSIiAQfz9"
      },
      "source": [
        "**Correlation Plot**"
      ]
    },
    {
      "cell_type": "code",
      "metadata": {
        "id": "9yfEqClcPd4H"
      },
      "source": [
        "corrdata = Data.corr()\n",
        "ax,fig = plt.subplots(figsize=(15,8))\n",
        "sns.heatmap(corrdata,annot=True)"
      ],
      "execution_count": null,
      "outputs": []
    },
    {
      "cell_type": "markdown",
      "metadata": {
        "id": "PD-DCruAQ6-Q"
      },
      "source": [
        "**Age vs Class**"
      ]
    },
    {
      "cell_type": "code",
      "metadata": {
        "id": "ge8WqOmUPduz"
      },
      "source": [
        "sns.barplot(x='class',y='Age',data=Data) "
      ],
      "execution_count": null,
      "outputs": []
    },
    {
      "cell_type": "code",
      "metadata": {
        "id": "hUNtALUkPdj7"
      },
      "source": [
        "Data['class'].value_counts()"
      ],
      "execution_count": null,
      "outputs": []
    },
    {
      "cell_type": "markdown",
      "metadata": {
        "id": "4YxuUzx6T0I_"
      },
      "source": [
        "**Gender vs Class**"
      ]
    },
    {
      "cell_type": "code",
      "metadata": {
        "id": "AYFNsgsMUGSh"
      },
      "source": [
        "sns.countplot(x='class',data=Data,hue='Gender') "
      ],
      "execution_count": null,
      "outputs": []
    },
    {
      "cell_type": "markdown",
      "metadata": {
        "id": "ehMBOKEQRROg"
      },
      "source": [
        "# Model Building \n"
      ]
    },
    {
      "cell_type": "markdown",
      "metadata": {
        "id": "NcZ6Ws23XXYo"
      },
      "source": [
        "Splitting into training and testing data "
      ]
    },
    {
      "cell_type": "code",
      "metadata": {
        "id": "ECg4qkAomYv-"
      },
      "source": [
        "from sklearn.model_selection import train_test_split\n",
        "trainX,testX,trainY,testY=train_test_split(Data.iloc[:,:-1],Data.iloc[:,-1],train_size=0.8,random_state=1)"
      ],
      "execution_count": 14,
      "outputs": []
    },
    {
      "cell_type": "markdown",
      "metadata": {
        "id": "63MWoue1IHWs"
      },
      "source": [
        "## Random Forest"
      ]
    },
    {
      "cell_type": "code",
      "metadata": {
        "id": "hm4HHE4rIHWs"
      },
      "source": [
        "from sklearn.ensemble import RandomForestClassifier\n",
        "model=RandomForestClassifier()\n",
        "model.fit(trainX,trainY)"
      ],
      "execution_count": null,
      "outputs": []
    },
    {
      "cell_type": "code",
      "metadata": {
        "id": "pMrkxU0PIHWt"
      },
      "source": [
        "pred=model.predict(testX)"
      ],
      "execution_count": 16,
      "outputs": []
    },
    {
      "cell_type": "code",
      "metadata": {
        "id": "Qdd6-zl3IHWt"
      },
      "source": [
        "from sklearn.metrics import accuracy_score\n",
        "from sklearn.metrics import classification_report"
      ],
      "execution_count": 17,
      "outputs": []
    },
    {
      "cell_type": "code",
      "metadata": {
        "id": "UKcYVSSsIHWt"
      },
      "source": [
        "print(accuracy_score(pred,testY)) #0.9807692307692307\n",
        "print(\".....................\")\n",
        "print(classification_report(pred,testY))"
      ],
      "execution_count": null,
      "outputs": []
    },
    {
      "cell_type": "markdown",
      "metadata": {
        "id": "uS5ncTMpIHWt"
      },
      "source": [
        "## Support Vector Classifier"
      ]
    },
    {
      "cell_type": "code",
      "metadata": {
        "id": "vDbP3zZspgPt"
      },
      "source": [
        "from sklearn.svm import SVC\n",
        "model=SVC(gamma=0.8,degree=0.8,max_iter=10000)\n",
        "model.fit(trainX,trainY)\n",
        "pred=model.predict(testX)"
      ],
      "execution_count": 20,
      "outputs": []
    },
    {
      "cell_type": "code",
      "metadata": {
        "id": "UABAZE8ApgGk"
      },
      "source": [
        "print(accuracy_score(pred,testY)) #0.9038461538461539\n",
        "print(\".....................\")\n",
        "print(classification_report(pred,testY))"
      ],
      "execution_count": null,
      "outputs": []
    },
    {
      "cell_type": "markdown",
      "metadata": {
        "id": "2AJh0XHvIHWu"
      },
      "source": [
        "# Artificial Neural Network"
      ]
    },
    {
      "cell_type": "code",
      "metadata": {
        "id": "CPo8sYAVweuW"
      },
      "source": [
        "pip install tensorflow==2.2"
      ],
      "execution_count": null,
      "outputs": []
    },
    {
      "cell_type": "code",
      "metadata": {
        "id": "LEkxJcMxwYug"
      },
      "source": [
        "import tensorflow as tf\n",
        "from tensorflow import keras\n",
        "from keras import layers\n",
        "from keras.utils import normalize"
      ],
      "execution_count": 23,
      "outputs": []
    },
    {
      "cell_type": "code",
      "metadata": {
        "id": "3jrt3OitwUB0"
      },
      "source": [
        "#Normalizing the data\n",
        "from keras.utils import normalize\n",
        "Xtrain=normalize(trainX)\n",
        "Xtest=normalize(testX)"
      ],
      "execution_count": 24,
      "outputs": []
    },
    {
      "cell_type": "code",
      "metadata": {
        "id": "QttWHQk5IHWu"
      },
      "source": [
        "# Defining the model\n",
        "model=keras.models.Sequential()\n",
        "model.add(keras.layers.Flatten()) #Flattens the input\n",
        "model.add(keras.layers.Dense(128,activation=tf.nn.relu)) #Adding input layer with 128 neurons and relu activation func\n",
        "model.add(keras.layers.Dense(128,activation=tf.nn.relu))\n",
        "model.add(keras.layers.Dense(2,activation=tf.nn.softmax))\n",
        "# Adam Optimiser converges faster than any other existing optimizer\n",
        "# sparse categorical crossentropy combines the good of crossentropy and one hot encoding\n",
        "model.compile(optimizer=\"adam\",loss=\"sparse_categorical_crossentropy\",metrics=[\"accuracy\"])\n",
        "model.fit(Xtrain,trainY,epochs=1000,callbacks=False)"
      ],
      "execution_count": null,
      "outputs": []
    },
    {
      "cell_type": "code",
      "metadata": {
        "colab": {
          "base_uri": "https://localhost:8080/"
        },
        "id": "pQVqXyGrIHWu",
        "outputId": "11f8fec3-97a0-450e-9aeb-a47c6ecf01a1"
      },
      "source": [
        "loss, accuracy=model.evaluate(Xtest,testY)"
      ],
      "execution_count": 26,
      "outputs": [
        {
          "output_type": "stream",
          "text": [
            "4/4 [==============================] - 0s 2ms/step - loss: 0.1193 - accuracy: 0.9712\n"
          ],
          "name": "stdout"
        }
      ]
    },
    {
      "cell_type": "code",
      "metadata": {
        "id": "HTtuL9ugIHWu"
      },
      "source": [
        "print(loss)\n",
        "print(\"..............\")\n",
        "print(accuracy). #0.9711538553237915"
      ],
      "execution_count": null,
      "outputs": []
    },
    {
      "cell_type": "markdown",
      "metadata": {
        "id": "aMtGELS-IHWv"
      },
      "source": [
        "## Probabilistic Neural Network"
      ]
    },
    {
      "cell_type": "code",
      "metadata": {
        "id": "DegfzDoSr2Jf"
      },
      "source": [
        "#!pip install neupy"
      ],
      "execution_count": null,
      "outputs": []
    },
    {
      "cell_type": "code",
      "metadata": {
        "id": "QQn6Mki3IHWv"
      },
      "source": [
        "#from neupy import algorithms\n",
        "#from sklearn import metrics"
      ],
      "execution_count": null,
      "outputs": []
    },
    {
      "cell_type": "code",
      "metadata": {
        "id": "g1ZZolZptk_J"
      },
      "source": [
        "#Xtrain.head()"
      ],
      "execution_count": null,
      "outputs": []
    },
    {
      "cell_type": "code",
      "metadata": {
        "id": "MkyEj5ORsNIr"
      },
      "source": [
        "#pnn = algorithms.PNN(std=10,verbose=True)\n",
        "#pnn.train(Xtrain,trainY)"
      ],
      "execution_count": null,
      "outputs": []
    },
    {
      "cell_type": "code",
      "metadata": {
        "id": "82oCXHwjuRYs"
      },
      "source": [
        "#pred=pnn.predict(Xtest)\n",
        "#prob=pnn.predict_proba(Xtest)\n",
        "#print(pred)\n",
        "#print('...............')\n",
        "#print(prob)"
      ],
      "execution_count": null,
      "outputs": []
    },
    {
      "cell_type": "code",
      "metadata": {
        "id": "RFFbRm1QsNBN"
      },
      "source": [
        "#y_predicted = pnn.predict(testX)\n",
        "#metrics.accuracy_score(testY, y_predicted)"
      ],
      "execution_count": null,
      "outputs": []
    }
  ]
}